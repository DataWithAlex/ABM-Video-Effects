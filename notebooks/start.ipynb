{
 "cells": [
  {
   "cell_type": "code",
   "execution_count": null,
   "metadata": {},
   "outputs": [],
   "source": [
    "# start.ipynb (code cells)\n",
    "\n",
    "# Install necessary packages (run once)\n",
    "using Pkg\n",
    "Pkg.add(\"Genie\")\n",
    "Pkg.add(\"IJulia\")\n",
    "Pkg.add(\"FileIO\")\n",
    "Pkg.add(\"Images\")\n",
    "Pkg.add(\"VideoIO\")\n",
    "\n",
    "# Activate the current environment\n",
    "Pkg.activate(\".\")\n",
    "\n",
    "# Include the relevant source files\n",
    "include(\"src/filehandler.jl\")\n",
    "include(\"src/distortion.jl\")\n",
    "include(\"src/abm_model.jl\")\n",
    "include(\"src/utils.jl\")\n",
    "\n",
    "# Start the Genie server in the background\n",
    "using Genie\n",
    "@async Genie.AppServer.startup()\n",
    "\n",
    "println(\"Genie is running at http://localhost:8000\")\n",
    "\n",
    "# After the server has started, you can visit the URL to interact with the web app.\n",
    "\n",
    "\n"
   ]
  }
 ],
 "metadata": {
  "kernelspec": {
   "display_name": "Julia 1.10.4",
   "language": "julia",
   "name": "julia-1.10"
  },
  "language_info": {
   "file_extension": ".jl",
   "mimetype": "application/julia",
   "name": "julia",
   "version": "1.10.4"
  }
 },
 "nbformat": 4,
 "nbformat_minor": 2
}
